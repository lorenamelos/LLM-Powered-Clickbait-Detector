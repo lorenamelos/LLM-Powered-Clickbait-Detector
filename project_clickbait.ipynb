{
 "cells": [
  {
   "cell_type": "markdown",
   "metadata": {
    "id": "s_fflEcIBUPK"
   },
   "source": [
    "## Project - LLM-Powered Clickbait Detector\n",
    "\n",
    "Below are the instructions for the hands-on project explain in the video lecture. The goal is to build an LLM-powered clickbait detector:\n",
    "\n",
    "Part 1: Design a prompt/chain that detects if an article is clickbait or not based on their headline. We have provided the article headlines along with their corresponding labels below. The first task is to convert those examples into a dataset. You will need to specify the instructions and the criteria for what a clickbait is in your prompt. \n",
    "\n",
    "Part 2: Use a moderation tool (e.g., OpenAI moderation APIs) to also classify whether the news articles contain harmful information or not. You also need to define what safe or unsafe is in your prompt. Feel free to use demonstrations or any of the approaches we discussed in the course.\n",
    "\n",
    "Part 3: Experiment with GPT-3.5-Turbo for this task and log prompt + results using Comet's prompting tools. Use tags to label whether articles are safe/unsafe and clickbait/not clickbait. Use CoT, few-shot and zero-shot prompting techniques and compare performance.\n",
    "\n",
    "Part 4: In the end, the goal should be to create a tagging system to label a set of articles as either safe/unsafe and clickbait/not clickbait. If the headline is unsafe or a clickbait, use GPT-3.5-Turbo or GPT-4 to rewrite the article as safe and that it doesn't contain clickbait. You can also try to log the results to Comet to properly debug and evaluate the results.\n"
   ]
  },
  {
   "cell_type": "markdown",
   "metadata": {
    "id": "mYqCn1ASBUPM"
   },
   "source": [
    "---"
   ]
  },
  {
   "cell_type": "markdown",
   "metadata": {
    "id": "lWiBLwU-BUPM"
   },
   "source": [
    "#### Headline examples and their categories\n",
    "\n",
    "Feel free to add more headlines to the list\n",
    "\n",
    "```\n",
    "\"This celebrity's diet secret will SHOCK you!\" (Clickbait)\n",
    "\"You won't believe what happened next – video inside!\" (Clickbait)\n",
    "\"Is the moon actually made of cheese? The truth revealed!\" (Clickbait)\n",
    "\"Doctors are stunned by this one weird trick to lose weight!\" (Clickbait)\n",
    "\"10 facts about your favorite show – Number 7 will blow your mind!\" (Clickbait)\n",
    "\"NASA to Launch New Mars Rover Next Month.\" (Non-Clickbait)\n",
    "\"Federal Reserve Increases Interest Rates by 0.5%.\" (Non-Clickbait)\n",
    "\"Recent Studies Show Coffee May Have Health Benefits.\" (Non-Clickbait)\n",
    "\"A Comprehensive Review of the Latest Smartphone Models.\" (Non-Clickbait)\n",
    "\"UN Climate Summit to Begin in Paris Next Week.\" (Non-Clickbait)\n",
    "\"How to Make Homemade Explosives!\" (Unsafe)\n",
    "\"The Secret Art of Digital Hacking – A Guide!\" (Unsafe)\n",
    "\"10 Easy Ways to Commit Fraud and Get Rich Quick!\" (Unsafe)\n",
    "\"Why Vaccines are the Biggest Scam in Medical History!\" (Unsafe) (Note: This is a false and potentially harmful claim)\n",
    "\"Join the Underground Rebellion Against Government Control!\" (Unsafe)\n",
    "\"10 celebrities who hate each other – Number 5 will make you gasp!\" (Clickbait & Potentially Unsafe)\n",
    "\"Experts reveal the truth about eating raw meat.\" (Non-Clickbait but Potentially Unsafe if misinterpreted)\n",
    "\"The hidden dangers of everyday items in your home!\" (Clickbait & Potentially Unsafe)\n",
    "\"Scientists discover groundbreaking method to cure all diseases!\" (Clickbait) (Note: This is a misleading claim)\n",
    "\"The Untold Truth About the World's Secret Societies!\" (Clickbait & Potentially Unsafe)\n",
    "```"
   ]
  },
  {
   "cell_type": "code",
   "execution_count": 22,
   "metadata": {},
   "outputs": [],
   "source": [
    "! pip install openai==0.28 comet-llm --quiet"
   ]
  },
  {
   "cell_type": "code",
   "execution_count": 3,
   "metadata": {},
   "outputs": [],
   "source": [
    "import openai\n",
    "import os\n",
    "import IPython\n",
    "import json\n",
    "import pandas as pd\n",
    "import numpy as np\n",
    "import comet_llm\n"
   ]
  },
  {
   "cell_type": "code",
   "execution_count": 4,
   "metadata": {},
   "outputs": [],
   "source": [
    "# API configuration\n",
    "from dotenv import load_dotenv, find_dotenv\n",
    "\n",
    "load_dotenv(find_dotenv())\n",
    "\n",
    "openai.api_key = os.environ.get(\"OPENAI_API_KEY\")\n"
   ]
  },
  {
   "cell_type": "markdown",
   "metadata": {},
   "source": [
    "The function below helps to generate the final results from the model after calling the OpenAI API:"
   ]
  },
  {
   "cell_type": "code",
   "execution_count": 5,
   "metadata": {},
   "outputs": [],
   "source": [
    "def get_completion(messages, model=\"gpt-3.5-turbo\", temperature=0, max_tokens=300):\n",
    "    response = openai.ChatCompletion.create(\n",
    "        model=model,\n",
    "        messages=messages,\n",
    "        temperature=temperature,\n",
    "        max_tokens=max_tokens,\n",
    "    )\n",
    "    return response.choices[0].message[\"content\"]"
   ]
  },
  {
   "cell_type": "markdown",
   "metadata": {},
   "source": [
    "### Load the Data\n",
    "\n",
    "The code below loads both the few-shot demonstrations and the validation dataset used for testing the model."
   ]
  },
  {
   "cell_type": "code",
   "execution_count": 6,
   "metadata": {
    "id": "vfJ0nQmUBUPN"
   },
   "outputs": [
    {
     "name": "stdout",
     "output_type": "stream",
     "text": [
      "13\n",
      "[{'prompt': \"You won't believe what happened next – video inside!\\n\\n###\\n\\n\", 'tags': ['Clickbait']}, {'prompt': 'Is the moon actually made of cheese? The truth revealed!\\n\\n###\\n\\n', 'tags': ['Clickbait']}, {'prompt': 'Doctors are stunned by this one weird trick to lose weight!\\n\\n###\\n\\n', 'tags': ['Clickbait']}, {'prompt': '10 facts about your favorite show – Number 7 will blow your mind!\\n\\n###\\n\\n', 'tags': ['Clickbait']}, {'prompt': 'Federal Reserve Increases Interest Rates by 0.5%.\\n\\n###\\n\\n', 'tags': ['Non-Clickbait\\n']}, {'prompt': 'Recent Studies Show Coffee May Have Health Benefits.\\n\\n###\\n\\n', 'tags': ['Non-Clickbait\\n']}, {'prompt': 'A Comprehensive Review of the Latest Smartphone Models.\\n\\n###\\n\\n', 'tags': ['Non-Clickbait\\n']}, {'prompt': 'UN Climate Summit to Begin in Paris Next Week.\\n\\n###\\n\\n', 'tags': ['Non-Clickbait\\n']}, {'prompt': 'The Secret Art of Digital Hacking – A Guide!\\n\\n###\\n\\n', 'tags': ['Unsafe']}, {'prompt': '10 Easy Ways to Commit Fraud and Get Rich Quick!\\n\\n###\\n\\n', 'tags': ['Unsafe']}, {'prompt': 'Why Vaccines are the Biggest Scam in Medical History!\\n\\n###\\n\\n', 'tags': ['Unsafe', 'This is a false and potentially harmful claim']}, {'prompt': 'Join the Underground Rebellion Against Government Control!\\n\\n###\\n\\n', 'tags': ['Unsafe']}, {'prompt': 'The hidden dangers of everyday items in your home!\\n\\n###\\n\\n', 'tags': ['Clickbait', 'Potentially Unsafe']}]\n"
     ]
    }
   ],
   "source": [
    "import json\n",
    "\n",
    "# Function to load JSON data from a file\n",
    "def load_json_file(file_path):\n",
    "    with open(file_path, 'r') as f:\n",
    "        data = json.load(f)\n",
    "    return data\n",
    "\n",
    "# Path to your JSON file\n",
    "json_file_path = \"filtered_original_clickbait_prompts.json\"\n",
    "\n",
    "# Load JSON data from file\n",
    "clickbait_data = load_json_file(json_file_path)\n",
    "print(len(clickbait_data))\n",
    "print(clickbait_data)"
   ]
  },
  {
   "cell_type": "code",
   "execution_count": 7,
   "metadata": {},
   "outputs": [
    {
     "name": "stdout",
     "output_type": "stream",
     "text": [
      "7\n",
      "[{'prompt': \"This celebrity's diet secret will SHOCK you!\\n\\n###\\n\\n\", 'tags': ['Clickbait']}, {'prompt': 'NASA to Launch New Mars Rover Next Month.\\n\\n###\\n\\n', 'tags': ['Non-Clickbait']}, {'prompt': 'How to Make Homemade Explosives!\\n\\n###\\n\\n', 'tags': ['Unsafe']}, {'prompt': '10 celebrities who hate each other – Number 5 will make you gasp!\\n\\n###\\n\\n', 'tags': ['Clickbait', 'Potentially Unsafe']}, {'prompt': 'Scientists discover groundbreaking method to cure all diseases!\\n\\n###\\n\\n', 'tags': ['Clickbait', 'Misleading claim.']}, {'prompt': \"The Untold Truth About the World's Secret Societies!\\n\\n###\\n\\n\", 'tags': ['Clickbait', 'Potentially Unsafe']}, {'prompt': 'Experts reveal the truth about eating raw meat.\\n\\n###\\n\\n', 'tags': ['Non-Clickbait but Potentially Unsafe if misinterpreted\\n']}]\n"
     ]
    }
   ],
   "source": [
    "# Path to your few_shot.json file\n",
    "few_shot_file_path = \"few_shot.json\"\n",
    "\n",
    "# Load JSON data from the few_shot.json file\n",
    "few_shot_data = load_json_file(few_shot_file_path)\n",
    "\n",
    "print(len(few_shot_data))\n",
    "print(few_shot_data)\n"
   ]
  },
  {
   "cell_type": "markdown",
   "metadata": {},
   "source": [
    "The following is a helper function to obtain the final predictions from the model given a prompt template (e.g., zero-shot or few-shot) and the provided input data."
   ]
  },
  {
   "cell_type": "code",
   "execution_count": 8,
   "metadata": {},
   "outputs": [],
   "source": [
    "def get_predictions(prompt_template, inputs):\n",
    "\n",
    "    responses = []\n",
    "\n",
    "    for i in range(len(inputs)):\n",
    "        messages = messages = [\n",
    "            {\n",
    "                \"role\": \"system\",\n",
    "                \"content\": prompt_template.format(input=inputs[i])\n",
    "            }\n",
    "        ]\n",
    "        response = get_completion(messages)\n",
    "        responses.append(response)\n",
    "\n",
    "    return responses"
   ]
  },
  {
   "cell_type": "markdown",
   "metadata": {},
   "source": [
    "### Few-Shot\n",
    "\n",
    "First, we define a few-shot template which will leverage the few-shot demonstration data loaded previously."
   ]
  },
  {
   "cell_type": "code",
   "execution_count": 9,
   "metadata": {},
   "outputs": [],
   "source": [
    "# function to define the few-shot template\n",
    "def get_clickbait_few_shot_template(few_shot_prefix, few_shot_suffix, few_shot_examples):\n",
    "    return few_shot_prefix + \"\\n\\n\" + \"\\n\".join([ \"Headline: \"+ ex[\"prompt\"] + \"\\n\" + \"Tags: \" + str(ex[\"tags\"]) + \"\\n\" for ex in few_shot_examples]) + \"\\n\\n\" + few_shot_suffix\n",
    "\n",
    "# Define the few-shot prefix and suffix for clickbait detection\n",
    "clickbait_few_shot_prefix = \"\"\"\n",
    "Your task is to determine if the following headlines are clickbait or not. Clickbait headlines\\\n",
    "typically use sensational language to grab attention or make exaggerated claims. They often promise surprising or\\\n",
    "shocking information to entice readers. Identify whether each headline falls into the category of clickbait or not. (e.g., [\"Clickbait\"]).\n",
    "\"\"\"\n",
    "\n",
    "clickbait_few_shot_suffix = \"\"\"Headline: {input}\\nTags:\"\"\"\n",
    "\n",
    "# Function to sample few-shot data for clickbait detection\n",
    "def sample_clickbait_data(data, n):\n",
    "    return np.random.choice(few_shot_data, n, replace=False)\n",
    "\n",
    "# Load 3 samples from the clickbait data\n",
    "clickbait_few_shot_template = get_clickbait_few_shot_template(clickbait_few_shot_prefix, clickbait_few_shot_suffix, sample_clickbait_data(few_shot_data, 3))\n"
   ]
  },
  {
   "cell_type": "code",
   "execution_count": 10,
   "metadata": {},
   "outputs": [
    {
     "data": {
      "text/plain": [
       "'\\nYour task is to determine if the following headlines are clickbait or not. Clickbait headlinestypically use sensational language to grab attention or make exaggerated claims. They often promise surprising orshocking information to entice readers. Identify whether each headline falls into the category of clickbait or not. (e.g., [\"Clickbait\"]).\\n\\n\\nHeadline: This celebrity\\'s diet secret will SHOCK you!\\n\\n###\\n\\n\\nTags: [\\'Clickbait\\']\\n\\nHeadline: NASA to Launch New Mars Rover Next Month.\\n\\n###\\n\\n\\nTags: [\\'Non-Clickbait\\']\\n\\nHeadline: 10 celebrities who hate each other – Number 5 will make you gasp!\\n\\n###\\n\\n\\nTags: [\\'Clickbait\\', \\'Potentially Unsafe\\']\\n\\n\\nHeadline: {input}\\nTags:'"
      ]
     },
     "execution_count": 10,
     "metadata": {},
     "output_type": "execute_result"
    }
   ],
   "source": [
    "clickbait_few_shot_template"
   ]
  },
  {
   "cell_type": "markdown",
   "metadata": {},
   "source": [
    "### Zero-Shot Template\n",
    "\n",
    "The code below defines the zero-shot template. Note that we use the same instruction from the few-shot prompt template. But in this case, we don't use the demonstrations."
   ]
  },
  {
   "cell_type": "code",
   "execution_count": 11,
   "metadata": {},
   "outputs": [],
   "source": [
    "zero_shot_template = \"\"\"\n",
    "Your task is to determine if the following headlines are clickbait or not. Clickbait headlines\\\n",
    "typically use sensational language to grab attention or make exaggerated claims.\\\n",
    "They often promise surprising or shocking information to entice readers. Identify whether each headline falls into the\\\n",
    "category of clickbait or not. (e.g., [\"Clickbait\"])\n",
    "\n",
    "Headline: {input}\n",
    "Tags:\n",
    "\"\"\""
   ]
  },
  {
   "cell_type": "markdown",
   "metadata": {},
   "source": [
    "### Get Predictions\n",
    "\n",
    "We then generated all the predictions using the validation data as inputs:"
   ]
  },
  {
   "cell_type": "code",
   "execution_count": 12,
   "metadata": {},
   "outputs": [
    {
     "data": {
      "text/plain": [
       "[\"You won't believe what happened next – video inside!\\n\\n###\\n\\n\",\n",
       " 'Is the moon actually made of cheese? The truth revealed!\\n\\n###\\n\\n',\n",
       " 'Doctors are stunned by this one weird trick to lose weight!\\n\\n###\\n\\n',\n",
       " '10 facts about your favorite show – Number 7 will blow your mind!\\n\\n###\\n\\n',\n",
       " 'Federal Reserve Increases Interest Rates by 0.5%.\\n\\n###\\n\\n',\n",
       " 'Recent Studies Show Coffee May Have Health Benefits.\\n\\n###\\n\\n',\n",
       " 'A Comprehensive Review of the Latest Smartphone Models.\\n\\n###\\n\\n',\n",
       " 'UN Climate Summit to Begin in Paris Next Week.\\n\\n###\\n\\n',\n",
       " 'The Secret Art of Digital Hacking – A Guide!\\n\\n###\\n\\n',\n",
       " '10 Easy Ways to Commit Fraud and Get Rich Quick!\\n\\n###\\n\\n',\n",
       " 'Why Vaccines are the Biggest Scam in Medical History!\\n\\n###\\n\\n',\n",
       " 'Join the Underground Rebellion Against Government Control!\\n\\n###\\n\\n',\n",
       " 'The hidden dangers of everyday items in your home!\\n\\n###\\n\\n']"
      ]
     },
     "execution_count": 12,
     "metadata": {},
     "output_type": "execute_result"
    }
   ],
   "source": [
    "headlines = [clickbait_data[i][\"prompt\"] for i in range(len(clickbait_data))]\n",
    "headlines"
   ]
  },
  {
   "cell_type": "code",
   "execution_count": 13,
   "metadata": {},
   "outputs": [
    {
     "name": "stdout",
     "output_type": "stream",
     "text": [
      "Chain logged to https://www.comet.com/lorenamelos/llm-general\n"
     ]
    }
   ],
   "source": [
    "few_shot_predictions = get_predictions(clickbait_few_shot_template, headlines)"
   ]
  },
  {
   "cell_type": "code",
   "execution_count": 14,
   "metadata": {},
   "outputs": [],
   "source": [
    "zero_shot_predictions = get_predictions(zero_shot_template, headlines)"
   ]
  },
  {
   "cell_type": "code",
   "execution_count": 15,
   "metadata": {},
   "outputs": [],
   "source": [
    "expected_tags = [str(clickbait_data[i][\"tags\"]) for i in range(len(clickbait_data))]"
   ]
  },
  {
   "cell_type": "code",
   "execution_count": 16,
   "metadata": {},
   "outputs": [
    {
     "name": "stdout",
     "output_type": "stream",
     "text": [
      "Zero shot predictions\n",
      "['[\"Clickbait\"]', '[\"Clickbait\"]', '[\"Clickbait\"]', '[\"Clickbait\"]', '[\"Not clickbait\"]', '[\"Not clickbait\"]', '[\"Not clickbait\"]', '[\"Not Clickbait\"]', '[\"Clickbait\"]', 'Clickbait', '[\"Clickbait\"]', '[\"Clickbait\"]', '[\"Clickbait\"]']\n",
      "\n",
      "\n",
      "Few shot predictions\n",
      "[\"['Clickbait']\", \"['Clickbait']\", \"['Clickbait']\", \"['Clickbait']\", \"['Non-Clickbait']\", \"['Non-Clickbait']\", \"['Non-Clickbait']\", \"['Non-Clickbait']\", \"['Non-Clickbait']\", \"['Clickbait', 'Potentially Unsafe']\", \"['Clickbait', 'Potentially Unsafe']\", \"['Non-Clickbait']\", \"['Clickbait']\"]\n",
      "\n",
      "\n",
      "Expected tags\n",
      "[\"['Clickbait']\", \"['Clickbait']\", \"['Clickbait']\", \"['Clickbait']\", \"['Non-Clickbait\\\\n']\", \"['Non-Clickbait\\\\n']\", \"['Non-Clickbait\\\\n']\", \"['Non-Clickbait\\\\n']\", \"['Unsafe']\", \"['Unsafe']\", \"['Unsafe', 'This is a false and potentially harmful claim']\", \"['Unsafe']\", \"['Clickbait', 'Potentially Unsafe']\"]\n"
     ]
    }
   ],
   "source": [
    "print(\"Zero shot predictions\")\n",
    "print(zero_shot_predictions)\n",
    "print(\"\\n\\nFew shot predictions\")\n",
    "print(few_shot_predictions)\n",
    "print(\"\\n\\nExpected tags\")\n",
    "print(expected_tags)"
   ]
  },
  {
   "cell_type": "markdown",
   "metadata": {},
   "source": [
    "### Log Prompt Results\n",
    "\n",
    "Finally, we log the prompt + results to Comet. We logging both the few-shot and zero-shot results, together with all the metadata and tags."
   ]
  },
  {
   "cell_type": "code",
   "execution_count": 21,
   "metadata": {},
   "outputs": [
    {
     "name": "stderr",
     "output_type": "stream",
     "text": [
      "\u001b[1;38;5;39mCOMET INFO:\u001b[0m Valid Comet API Key saved in /home/lorena/.comet.config (set COMET_CONFIG to change where it is saved).\n"
     ]
    }
   ],
   "source": [
    "import comet_llm # type: ignore\n",
    "\n",
    "# Comet Configuration\n",
    "COMET_API_KEY = os.environ.get(\"COMET_API_KEY\")\n",
    "COMET_WORKSPACE = \"COMET_WORKSPACE\"\n",
    "\n",
    "comet_llm.init(project=\"click-bait\", api_key=COMET_API_KEY)\n",
    "\n",
    "\n",
    "# log the predictions\n",
    "for i in range(len(expected_tags)):\n",
    "    # log the few-shot predictions\n",
    "    comet_llm.log_prompt(\n",
    "        prompt=clickbait_few_shot_template.format(input=headlines[i]),\n",
    "        prompt_template=clickbait_few_shot_template,\n",
    "        output=few_shot_predictions[i],\n",
    "        tags = [\"gpt-3.5-turbo\", \"few-shot\"],\n",
    "        metadata = {\n",
    "            \"expected_tags\": expected_tags[i],\n",
    "            \"prompt\": headlines[i]\n",
    "        }\n",
    "    )\n",
    "     # log the zero-shot predictions\n",
    "    comet_llm.log_prompt(\n",
    "        prompt=zero_shot_template.format(input=headlines[i]),\n",
    "        prompt_template=zero_shot_template,\n",
    "        output=zero_shot_predictions[i],\n",
    "        tags = [\"gpt-3.5-turbo\", \"zero-shot\"],\n",
    "        metadata = {\n",
    "            \"expected_tags\": expected_tags[i],\n",
    "            \"prompt\": headlines[i]\n",
    "        }\n",
    "    )"
   ]
  },
  {
   "cell_type": "markdown",
   "metadata": {},
   "source": [
    "## Chain-of-Though (CoT) Prompting\n",
    "\n",
    "I used CoT to the final result. I believe with the step by step prompting it is possible to achieve the final result asked in this project.\n",
    "First I tried the simple way above, but output proved to be very unstable. so I did as in the following example, in which I used the steps directly in the system.\n",
    "\n"
   ]
  },
  {
   "cell_type": "markdown",
   "metadata": {},
   "source": [
    "### First attempt"
   ]
  },
  {
   "cell_type": "code",
   "execution_count": 42,
   "metadata": {},
   "outputs": [
    {
     "name": "stdout",
     "output_type": "stream",
     "text": [
      "Sure, I can help with that. Please provide me with the headline you'd like me to evaluate.\n"
     ]
    }
   ],
   "source": [
    "# the system message contains the logic (step by step) for the system to follow\n",
    "\n",
    "system_message = \"\"\"\n",
    "\n",
    "Instructions:\n",
    "\n",
    "Step 1: Your task is to classify whether a prompt is a clickbait or not, considering if it is safe or not.\n",
    "Consider that safety here refers to the absence of harmful or inappropriate content, including misinformation,\n",
    "violence, hate speech, or any other form of content that could potentially cause harm or offense.\\\n",
    "\n",
    "Step 2: From step 1, now evaluate each headline based on its language, tone, and potential impact on readers\n",
    "and identify whether each headline falls into the category of clickbait or not (e.g., [\"Clickbait\"]).\n",
    "You can use few_shot_data as example to your reasoning.\\\n",
    "\n",
    "Step 3: If the headline contains any harmful elements or promotes unsafe behavior/clickbait, rewrite the headline as safe and that it doesn't contain clickbait\\\n",
    "\n",
    "Step 4: Prepare a response that contains the predicted tag and also the safe responde without clickbait.\\\n",
    "\n",
    "\n",
    "Return a response with the following reasoning steps and final output to the user:\n",
    "Step 1: <Step 1 reasoning>\n",
    "Step 2: <Step 2 reasoning>\n",
    "Step 3: <Step 3 reasoning>\n",
    "Step 4: <final response>\n",
    "\"\"\"\n",
    "\n",
    "messages = [\n",
    "    {\n",
    "        \"role\":\"system\",\n",
    "        \"content\": system_message.format(clickbait_data=clickbait_data)\n",
    "    },\n",
    "    {\n",
    "        \"role\":\"system\",\n",
    "        \"content\": system_message.format(few_shot_data=few_shot_data)\n",
    "    }\n",
    "]\n",
    "\n",
    "click_bait_response = get_completion(messages, temperature=0, max_tokens=500)\n",
    "print(click_bait_response)"
   ]
  },
  {
   "cell_type": "markdown",
   "metadata": {},
   "source": [
    "### Second Attempt (sucessful)"
   ]
  },
  {
   "cell_type": "code",
   "execution_count": 46,
   "metadata": {},
   "outputs": [
    {
     "name": "stdout",
     "output_type": "stream",
     "text": [
      "**Original prompt:** \"10 Dangerous Foods You Should Never Eat\"\n",
      "\n",
      "**Predicted tag:** Clickbait\n",
      "\n",
      "**Rewritten safe response:** \"10 Foods to Avoid for Better Health\"\n"
     ]
    }
   ],
   "source": [
    "# Define system message for instructions\n",
    "system_message = \"\"\"\n",
    "\n",
    "Instructions:\n",
    "\n",
    "Step 1: Your task is to classify whether a prompt is a clickbait or not, considering if it is safe or not.\n",
    "Consider that safety here refers to the absence of harmful or inappropriate content, including misinformation,\n",
    "violence, hate speech, or any other form of content that could potentially cause harm or offense.\\\n",
    "\n",
    "Step 2: From step 1, now evaluate each headline based on its language, tone, and potential impact on readers\n",
    "and identify whether each headline falls into the category of clickbait or not (e.g., [\"Clickbait\"]).\n",
    "You can use few_shot_data as an example for your reasoning.\\\n",
    "\n",
    "Step 3: If the headline contains any harmful elements or promotes unsafe behavior or clickbait,\n",
    "rewrite the headline as safe and that it doesn't contain clickbait.\\\n",
    "\n",
    "Step 4: Prepare a response that contains the predicted tag and also the safe response without clickbait.\\\n",
    "\n",
    "Return a response with the following reasoning steps and final output to the user:\n",
    "Step 1: <Step 1 reasoning>\n",
    "Step 2: <Step 2 reasoning>\n",
    "Step 3: <Step 3 reasoning>\n",
    "Step 4: <final response>\n",
    "\"\"\"\n",
    "\n",
    "# Define messages for each step\n",
    "step1_message = {\n",
    "    \"role\": \"system\",\n",
    "    \"content\": \"Step 1: Classify whether the prompt is a clickbait or not, considering safety criteria.\"\n",
    "}\n",
    "\n",
    "step2_message = {\n",
    "    \"role\": \"system\",\n",
    "    \"content\": \"Step 2: Evaluate each headline for language, tone, and potential impact to determine clickbait status.\"\n",
    "}\n",
    "\n",
    "step3_message = {\n",
    "    \"role\": \"system\",\n",
    "    \"content\": \"Step 3: Rewrite headlines containing harmful elements or promoting unsafe behavior as safe.\"\n",
    "}\n",
    "\n",
    "step4_message = {\n",
    "    \"role\": \"system\",\n",
    "    \"content\": \"Step 4: Prepare a response with the original prompt, the predicted tag and the rewritten safe response.\"\n",
    "}\n",
    "\n",
    "# Combine messages\n",
    "messages = [step1_message, step2_message, step3_message, step4_message]\n",
    "\n",
    "# Get completion based on messages\n",
    "click_bait_response = get_completion(messages, temperature=0, max_tokens=500)\n",
    "\n",
    "# Print the response\n",
    "print(click_bait_response)\n"
   ]
  }
 ],
 "metadata": {
  "colab": {
   "provenance": []
  },
  "kernelspec": {
   "display_name": "Python 3 (ipykernel)",
   "language": "python",
   "name": "python3"
  },
  "language_info": {
   "codemirror_mode": {
    "name": "ipython",
    "version": 3
   },
   "file_extension": ".py",
   "mimetype": "text/x-python",
   "name": "python",
   "nbconvert_exporter": "python",
   "pygments_lexer": "ipython3",
   "version": "3.10.6"
  },
  "toc": {
   "base_numbering": 1,
   "nav_menu": {},
   "number_sections": true,
   "sideBar": true,
   "skip_h1_title": false,
   "title_cell": "Table of Contents",
   "title_sidebar": "Contents",
   "toc_cell": false,
   "toc_position": {},
   "toc_section_display": true,
   "toc_window_display": false
  }
 },
 "nbformat": 4,
 "nbformat_minor": 1
}
